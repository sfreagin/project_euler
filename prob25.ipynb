{
 "cells": [
  {
   "cell_type": "markdown",
   "metadata": {},
   "source": [
    "# 1000-digit Fibonacci number\n",
    "\n",
    "## Problem 25\n",
    "The Fibonacci sequence is defined by the recurrence relation:\n",
    "\n",
    "Fn = Fn−1 + Fn−2, where F1 = 1 and F2 = 1.\n",
    "\n",
    "Hence the first 12 terms will be:\n",
    "\n",
    "F1 = 1\n",
    "\n",
    "F2 = 1\n",
    "\n",
    "F3 = 2\n",
    "\n",
    "F4 = 3\n",
    "\n",
    "F5 = 5\n",
    "\n",
    "F6 = 8\n",
    "\n",
    "F7 = 13\n",
    "\n",
    "F8 = 21\n",
    "\n",
    "F9 = 34\n",
    "\n",
    "F10 = 55\n",
    "\n",
    "F11 = 89\n",
    "\n",
    "F12 = 144\n",
    "\n",
    "The 12th term, F12, is the first term to contain three digits.\n",
    "\n",
    "What is the index of the first term in the Fibonacci sequence to contain 1000 digits?"
   ]
  },
  {
   "cell_type": "code",
   "execution_count": 12,
   "metadata": {},
   "outputs": [
    {
     "data": {
      "text/plain": [
       "4782"
      ]
     },
     "execution_count": 12,
     "metadata": {},
     "output_type": "execute_result"
    }
   ],
   "source": [
    "first_num=0\n",
    "second_num=1\n",
    "count = 0\n",
    "\n",
    "# the Fibonacci sequence hits 4,000,000 way before 100 iterations\n",
    "number = 10000\n",
    "\n",
    "for num in range(number):\n",
    "    if len(str(second_num)) < 1000:\n",
    "        second_num += first_num\n",
    "        first_num = second_num - first_num\n",
    "        count +=1\n",
    "        \n",
    "count+1"
   ]
  },
  {
   "cell_type": "code",
   "execution_count": 13,
   "metadata": {},
   "outputs": [
    {
     "data": {
      "text/plain": [
       "[1, 2, 3, 5, 8, 13, 21, 34, 55, 89]"
      ]
     },
     "execution_count": 13,
     "metadata": {},
     "output_type": "execute_result"
    }
   ],
   "source": [
    "fibo_list[:10]"
   ]
  },
  {
   "cell_type": "code",
   "execution_count": null,
   "metadata": {},
   "outputs": [],
   "source": []
  }
 ],
 "metadata": {
  "kernelspec": {
   "display_name": "Python 3",
   "language": "python",
   "name": "python3"
  },
  "language_info": {
   "codemirror_mode": {
    "name": "ipython",
    "version": 3
   },
   "file_extension": ".py",
   "mimetype": "text/x-python",
   "name": "python",
   "nbconvert_exporter": "python",
   "pygments_lexer": "ipython3",
   "version": "3.8.5"
  }
 },
 "nbformat": 4,
 "nbformat_minor": 4
}
