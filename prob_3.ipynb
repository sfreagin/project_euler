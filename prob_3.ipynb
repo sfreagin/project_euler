{
 "cells": [
  {
   "cell_type": "markdown",
   "metadata": {},
   "source": [
    "# Largest prime factor\n",
    "\n",
    "## Problem 3\n",
    "\n",
    "The prime factors of 13195 are 5, 7, 13 and 29.\n",
    "\n",
    "What is the largest prime factor of the number 600851475143 ?"
   ]
  },
  {
   "cell_type": "code",
   "execution_count": 28,
   "metadata": {},
   "outputs": [],
   "source": [
    "import numpy as np"
   ]
  },
  {
   "cell_type": "code",
   "execution_count": 38,
   "metadata": {},
   "outputs": [],
   "source": [
    "#credit to: https://www.geeksforgeeks.org/python-program-to-check-whether-a-number-is-prime-or-not/\n",
    "\n",
    "num = 13\n",
    "\n",
    "# defining a function that takes in a number\n",
    "# and determines whether it's a prime number\n",
    "def prime_sieve(num):\n",
    "    if num > 1:\n",
    "        for i in range(2, int(num/2)+1):\n",
    "            if (num % i) == 0:\n",
    "                print(f\"{num} is not prime\")\n",
    "                break\n",
    "        else:\n",
    "            print(f\"{num} is a prime number\")\n",
    "            return num\n",
    "    else:\n",
    "        print(f\"{num} is not a prime number\")"
   ]
  },
  {
   "cell_type": "code",
   "execution_count": 35,
   "metadata": {},
   "outputs": [
    {
     "data": {
      "text/plain": [
       "[71, 839, 1471, 6857, 59569, 104441, 486847]"
      ]
     },
     "execution_count": 35,
     "metadata": {},
     "output_type": "execute_result"
    }
   ],
   "source": [
    "big_num = 600851475143\n",
    "big_list = []\n",
    "for i in range(2,int(np.sqrt(big_num))):\n",
    "    if big_num % i == 0:\n",
    "        big_list.append(i)\n",
    "\n",
    "big_list"
   ]
  },
  {
   "cell_type": "code",
   "execution_count": 36,
   "metadata": {},
   "outputs": [
    {
     "name": "stdout",
     "output_type": "stream",
     "text": [
      "71 is a prime number\n",
      "839 is a prime number\n",
      "1471 is a prime number\n",
      "6857 is a prime number\n",
      "59569 is not prime\n",
      "104441 is not prime\n",
      "486847 is not prime\n"
     ]
    }
   ],
   "source": [
    "new_list = []\n",
    "for biggies in big_list:\n",
    "    new_list.append(prime_sieve(biggies))"
   ]
  },
  {
   "cell_type": "code",
   "execution_count": 37,
   "metadata": {},
   "outputs": [
    {
     "data": {
      "text/plain": [
       "[71, 839, 1471, 6857]"
      ]
     },
     "execution_count": 37,
     "metadata": {},
     "output_type": "execute_result"
    }
   ],
   "source": [
    "#credit to: https://www.geeksforgeeks.org/python-remove-none-values-from-list/\n",
    "\n",
    "res=[]\n",
    "for val in new_list:\n",
    "    if val != None:\n",
    "        res.append(val)\n",
    "res"
   ]
  },
  {
   "cell_type": "code",
   "execution_count": null,
   "metadata": {},
   "outputs": [],
   "source": []
  },
  {
   "cell_type": "code",
   "execution_count": null,
   "metadata": {},
   "outputs": [],
   "source": []
  }
 ],
 "metadata": {
  "kernelspec": {
   "display_name": "Python 3",
   "language": "python",
   "name": "python3"
  },
  "language_info": {
   "codemirror_mode": {
    "name": "ipython",
    "version": 3
   },
   "file_extension": ".py",
   "mimetype": "text/x-python",
   "name": "python",
   "nbconvert_exporter": "python",
   "pygments_lexer": "ipython3",
   "version": "3.8.5"
  }
 },
 "nbformat": 4,
 "nbformat_minor": 4
}
