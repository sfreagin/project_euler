{
 "cells": [
  {
   "cell_type": "markdown",
   "metadata": {},
   "source": [
    "# Largest palindrome product\n",
    "\n",
    "## Problem 4\n",
    "\n",
    "A palindromic number reads the same both ways. The largest palindrome made from the product of two 2-digit numbers is 9009 = 91 × 99.\n",
    "\n",
    "Find the largest palindrome made from the product of two 3-digit numbers."
   ]
  },
  {
   "cell_type": "code",
   "execution_count": 1,
   "metadata": {},
   "outputs": [],
   "source": [
    "# some help from: \n",
    "# https://www.geeksforgeeks.org/python-program-check-string-palindrome-not/\n",
    "\n",
    "def isPalindrome(my_string):\n",
    "    return my_string == my_string[::-1]"
   ]
  },
  {
   "cell_type": "code",
   "execution_count": 6,
   "metadata": {},
   "outputs": [
    {
     "name": "stdout",
     "output_type": "stream",
     "text": [
      "True\n",
      "False\n",
      "True\n"
     ]
    }
   ],
   "source": [
    "print(isPalindrome('racecar'))\n",
    "print(isPalindrome('howabout?'))\n",
    "print(isPalindrome('5115'))"
   ]
  },
  {
   "cell_type": "code",
   "execution_count": 21,
   "metadata": {},
   "outputs": [
    {
     "name": "stdout",
     "output_type": "stream",
     "text": [
      "The highest palindrome product is: 906609\n"
     ]
    }
   ],
   "source": [
    "# now iterate through every combination of 3-digit numbers and append True calls to a list\n",
    "\n",
    "test_list = []\n",
    "for a in range(100,1000):\n",
    "    for b in range(100,1000):\n",
    "        num_num = a * b\n",
    "        if isPalindrome(str(num_num))==True:\n",
    "            test_list.append(num_num)\n",
    "            \n",
    "# then find the list max\n",
    "print(f'The highest palindrome product is: {max(test_list)}')"
   ]
  },
  {
   "cell_type": "code",
   "execution_count": null,
   "metadata": {},
   "outputs": [],
   "source": []
  }
 ],
 "metadata": {
  "kernelspec": {
   "display_name": "Python 3",
   "language": "python",
   "name": "python3"
  },
  "language_info": {
   "codemirror_mode": {
    "name": "ipython",
    "version": 3
   },
   "file_extension": ".py",
   "mimetype": "text/x-python",
   "name": "python",
   "nbconvert_exporter": "python",
   "pygments_lexer": "ipython3",
   "version": "3.8.5"
  }
 },
 "nbformat": 4,
 "nbformat_minor": 4
}
